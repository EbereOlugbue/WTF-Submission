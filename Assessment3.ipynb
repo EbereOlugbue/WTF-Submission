{
 "cells": [
  {
   "cell_type": "code",
   "execution_count": 1,
   "id": "2b52c226",
   "metadata": {},
   "outputs": [
    {
     "name": "stdout",
     "output_type": "stream",
     "text": [
      "1\n",
      "2\n",
      "3\n",
      "4\n",
      "5\n"
     ]
    }
   ],
   "source": [
    "#Question 1\n",
    "#Print all elements of a list\n",
    "x =['1', '2', '3', '4', '5']\n",
    "for num in x:\n",
    "    print(num)"
   ]
  },
  {
   "cell_type": "code",
   "execution_count": 2,
   "id": "2ee0aa15",
   "metadata": {},
   "outputs": [
    {
     "name": "stdout",
     "output_type": "stream",
     "text": [
      "1 2 3 4 5\n"
     ]
    }
   ],
   "source": [
    "x =['1', '2', '3', '4', '5']\n",
    "print(*x)"
   ]
  },
  {
   "cell_type": "code",
   "execution_count": 15,
   "id": "3a7457ae",
   "metadata": {
    "scrolled": true
   },
   "outputs": [
    {
     "name": "stdout",
     "output_type": "stream",
     "text": [
      "salary is\n",
      "50000\n",
      "6\n",
      "6\n",
      "bonus is 2500.0\n"
     ]
    }
   ],
   "source": [
    "#Question2\n",
    "print('salary is')\n",
    "salary=int(input())\n",
    "print('6')\n",
    "year=int(input()) \n",
    "if year>5:\n",
    "    print('bonus is',0.05*salary)\n",
    "else:\n",
    "    print('no bonus')\n",
    "    \n"
   ]
  },
  {
   "cell_type": "code",
   "execution_count": 14,
   "id": "7fe79897",
   "metadata": {},
   "outputs": [
    {
     "name": "stdout",
     "output_type": "stream",
     "text": [
      "salary is\n",
      "6000\n",
      "4\n",
      "4\n",
      "no bonus\n"
     ]
    }
   ],
   "source": [
    "print('salary is')\n",
    "salary=int(input())\n",
    "print('4')\n",
    "year=int(input()) \n",
    "if year>5:\n",
    "    print('bonus is',0.05*salary)\n",
    "else:\n",
    "    print('no bonus')"
   ]
  },
  {
   "cell_type": "code",
   "execution_count": null,
   "id": "56a23a52",
   "metadata": {},
   "outputs": [],
   "source": [
    "#Question 3\n",
    "#Take input of age of 3 people by user and determine oldest and youngest among them."
   ]
  },
  {
   "cell_type": "code",
   "execution_count": 17,
   "id": "e3b1937d",
   "metadata": {},
   "outputs": [
    {
     "name": "stdout",
     "output_type": "stream",
     "text": [
      "Pablo\n",
      "Benita\n"
     ]
    }
   ],
   "source": [
    "def oldest_student(students):\n",
    "    return max (students, key=students.get)\n",
    "print(oldest_student({'Benita': 12, 'Khalid': 17, 'Pablo':20}))\n",
    "def youngest_student(students):\n",
    "     return min (students, key=students.get)\n",
    "print(youngest_student({'Benita': 12, 'Khalid': 17, 'Pablo':20}))\n",
    "        "
   ]
  },
  {
   "cell_type": "code",
   "execution_count": 19,
   "id": "5c40f27d",
   "metadata": {},
   "outputs": [
    {
     "name": "stdout",
     "output_type": "stream",
     "text": [
      "100\n",
      "my mark is\n",
      "A\n"
     ]
    }
   ],
   "source": [
    "#Question 4\n",
    "a = int(input())\n",
    "print ('my mark is')\n",
    "if (25 > a):\n",
    "   print ('F')\n",
    "elif 25<=a and 45>a:\n",
    "     print('E')\n",
    "elif 45<=a and 50>=a:\n",
    "     print ('D')\n",
    "elif 50<=a and 60>=a:\n",
    "     print ('C')\n",
    "elif 60<=a and 80>=a:\n",
    "     print ('B')\n",
    "else:\n",
    "     print ('A')\n",
    "    "
   ]
  },
  {
   "cell_type": "code",
   "execution_count": 16,
   "id": "8e7f9f1f",
   "metadata": {},
   "outputs": [
    {
     "name": "stdout",
     "output_type": "stream",
     "text": [
      "70\n",
      "my mark is\n",
      "B\n"
     ]
    }
   ],
   "source": [
    "\n",
    "#Question 4\n",
    "a = int(input())\n",
    "print ('my mark is')\n",
    "if (25 > a):\n",
    "   print ('F')\n",
    "elif 25<=a and 45>a:\n",
    "     print('E')\n",
    "elif 45<=a and 50>=a:\n",
    "     print ('D')\n",
    "elif 50<=a and 60>=a:\n",
    "     print ('C')\n",
    "elif 60<=a and 80>=a:\n",
    "     print ('B')\n",
    "else:\n",
    "     print ('A')"
   ]
  },
  {
   "cell_type": "code",
   "execution_count": 28,
   "id": "0f36450a",
   "metadata": {},
   "outputs": [
    {
     "name": "stdout",
     "output_type": "stream",
     "text": [
      "merged:\n",
      "{'x': 3, 'y': 7, 'u': 8, 'b': 6, 'o': 8, 'p': 5}\n"
     ]
    }
   ],
   "source": [
    "#Write a python script to merge two python dictionarires\n",
    "dic1 = {'x':3, 'y':7, 'u':8}\n",
    "dic2 ={'b':6,'o':8,'p':5}\n",
    "dic1.update(dic2)\n",
    "print('merged:')\n",
    "print(dic1)"
   ]
  },
  {
   "cell_type": "code",
   "execution_count": 31,
   "id": "4f779a0b",
   "metadata": {},
   "outputs": [
    {
     "name": "stdout",
     "output_type": "stream",
     "text": [
      "10000\n"
     ]
    }
   ],
   "source": [
    "#write a python program to get the largest number from a list.\n",
    "def max_num_in_list(list):\n",
    "    max = list[0]\n",
    "    for a in list:\n",
    "        if a > max:\n",
    "            max = a\n",
    "            return max\n",
    "print(max_num_in_list([700, 10000, 9009]))\n"
   ]
  },
  {
   "cell_type": "code",
   "execution_count": 32,
   "id": "59ccae03",
   "metadata": {},
   "outputs": [
    {
     "name": "stdout",
     "output_type": "stream",
     "text": [
      "{'p': 6, 'u': 9, 't': 9, 'j': 5}\n",
      "{'u': 9, 't': 9, 'j': 5}\n"
     ]
    }
   ],
   "source": [
    "#write a python program to remove a key from a dictionary\n",
    "myDict ={'p':6,'u':9,'t':9, 'j':5}\n",
    "print(myDict)\n",
    "if 'p' in myDict:\n",
    "    del myDict['p']\n",
    "    print(myDict)"
   ]
  }
 ],
 "metadata": {
  "kernelspec": {
   "display_name": "Python 3 (ipykernel)",
   "language": "python",
   "name": "python3"
  },
  "language_info": {
   "codemirror_mode": {
    "name": "ipython",
    "version": 3
   },
   "file_extension": ".py",
   "mimetype": "text/x-python",
   "name": "python",
   "nbconvert_exporter": "python",
   "pygments_lexer": "ipython3",
   "version": "3.9.12"
  }
 },
 "nbformat": 4,
 "nbformat_minor": 5
}
